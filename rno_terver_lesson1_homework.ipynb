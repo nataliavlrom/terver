{
  "nbformat": 4,
  "nbformat_minor": 0,
  "metadata": {
    "colab": {
      "name": "rno_terver_lesson1_homework.ipynb",
      "provenance": [],
      "authorship_tag": "ABX9TyMbnad1xt/1/2Xtytj/exjU",
      "include_colab_link": true
    },
    "kernelspec": {
      "name": "python3",
      "display_name": "Python 3"
    },
    "language_info": {
      "name": "python"
    }
  },
  "cells": [
    {
      "cell_type": "markdown",
      "metadata": {
        "id": "view-in-github",
        "colab_type": "text"
      },
      "source": [
        "<a href=\"https://colab.research.google.com/github/nataliavlrom/terver/blob/main/rno_terver_lesson1_homework.ipynb\" target=\"_parent\"><img src=\"https://colab.research.google.com/assets/colab-badge.svg\" alt=\"Open In Colab\"/></a>"
      ]
    },
    {
      "cell_type": "markdown",
      "metadata": {
        "id": "0H1ljTR4di2F"
      },
      "source": [
        "**Из колоды в 52 карты извлекаются случайным образом 4 карты. \n",
        "a) Найти вероятность того, что все карты – крести. \n",
        "б) Найти вероятность, что среди 4-х карт окажется хотя бы один туз.**\n"
      ]
    },
    {
      "cell_type": "code",
      "metadata": {
        "id": "nXTLJ7WUdvAx"
      },
      "source": [
        "from math import factorial\n",
        "\n",
        "def combinations(n, k):\n",
        "  return int(factorial(n)/(factorial(k)*factorial(n - k)))\n",
        "\n"
      ],
      "execution_count": 1,
      "outputs": []
    },
    {
      "cell_type": "code",
      "metadata": {
        "colab": {
          "base_uri": "https://localhost:8080/",
          "height": 0
        },
        "id": "HSjcPRDigOj6",
        "outputId": "0e3f5b62-8107-4adf-a46e-78ff3cca4a1c"
      },
      "source": [
        "#находим число сочетаний по 4 карты из 52\n",
        "m = combinations(52, 4)\n",
        "m"
      ],
      "execution_count": 2,
      "outputs": [
        {
          "output_type": "execute_result",
          "data": {
            "text/plain": [
              "270725"
            ]
          },
          "metadata": {},
          "execution_count": 2
        }
      ]
    },
    {
      "cell_type": "code",
      "metadata": {
        "colab": {
          "base_uri": "https://localhost:8080/",
          "height": 0
        },
        "id": "_Kx5QK1fgk3W",
        "outputId": "58f5510e-988f-467d-f08e-535cde7946ad"
      },
      "source": [
        "# в колоде 13 карт с мастью крести(52/4). получается 4 сочетания из 13 - блогоприятствующих событий\n",
        "n = combinations(13, 4)\n",
        "n\n"
      ],
      "execution_count": 3,
      "outputs": [
        {
          "output_type": "execute_result",
          "data": {
            "text/plain": [
              "715"
            ]
          },
          "metadata": {},
          "execution_count": 3
        }
      ]
    },
    {
      "cell_type": "code",
      "metadata": {
        "colab": {
          "base_uri": "https://localhost:8080/",
          "height": 0
        },
        "id": "zHsiFtI9h7FU",
        "outputId": "b2e5238a-939c-48e2-adb9-4735d2bf1c15"
      },
      "source": [
        "#P(все 4 карты – крести) = n/m\n",
        "p = n / m\n",
        "p"
      ],
      "execution_count": 4,
      "outputs": [
        {
          "output_type": "execute_result",
          "data": {
            "text/plain": [
              "0.0026410564225690276"
            ]
          },
          "metadata": {},
          "execution_count": 4
        }
      ]
    },
    {
      "cell_type": "code",
      "metadata": {
        "id": "7o33nwWai3xe"
      },
      "source": [
        "#a) Найти вероятность того, что все карты – крести. ответ: 0,26%"
      ],
      "execution_count": 5,
      "outputs": []
    },
    {
      "cell_type": "code",
      "metadata": {
        "colab": {
          "base_uri": "https://localhost:8080/",
          "height": 0
        },
        "id": "kGscaDVyjUJb",
        "outputId": "762a10f8-7303-430d-d1e8-d2c38c141372"
      },
      "source": [
        "#б) в колоде 4 туза\n",
        "# выпадает 1 туз\n",
        "c1 = combinations(4, 1)\n",
        "c1\n"
      ],
      "execution_count": 6,
      "outputs": [
        {
          "output_type": "execute_result",
          "data": {
            "text/plain": [
              "4"
            ]
          },
          "metadata": {},
          "execution_count": 6
        }
      ]
    },
    {
      "cell_type": "code",
      "metadata": {
        "colab": {
          "base_uri": "https://localhost:8080/",
          "height": 0
        },
        "id": "Rh3bDf3Cnuh8",
        "outputId": "6a00c589-65c4-47b4-bd30-20bc69d613ae"
      },
      "source": [
        "# остальные 3 карты не тузы\n",
        "d3 = combinations(48, 3)\n",
        "d3"
      ],
      "execution_count": 7,
      "outputs": [
        {
          "output_type": "execute_result",
          "data": {
            "text/plain": [
              "17296"
            ]
          },
          "metadata": {},
          "execution_count": 7
        }
      ]
    },
    {
      "cell_type": "code",
      "metadata": {
        "colab": {
          "base_uri": "https://localhost:8080/",
          "height": 0
        },
        "id": "i9TTuLz6kgXZ",
        "outputId": "1c3a1379-fa8b-4b9b-d9f5-bb17cd9cd60e"
      },
      "source": [
        "c2 = combinations(4, 2)\n",
        "c2"
      ],
      "execution_count": 8,
      "outputs": [
        {
          "output_type": "execute_result",
          "data": {
            "text/plain": [
              "6"
            ]
          },
          "metadata": {},
          "execution_count": 8
        }
      ]
    },
    {
      "cell_type": "code",
      "metadata": {
        "colab": {
          "base_uri": "https://localhost:8080/",
          "height": 0
        },
        "id": "UAYPKko5ockX",
        "outputId": "7ffd51e7-00ba-442c-b4f4-f85bc1bd410c"
      },
      "source": [
        "#остальные 2 карты не тузы\n",
        "d2 = combinations(48, 2)\n",
        "d2\n"
      ],
      "execution_count": 9,
      "outputs": [
        {
          "output_type": "execute_result",
          "data": {
            "text/plain": [
              "1128"
            ]
          },
          "metadata": {},
          "execution_count": 9
        }
      ]
    },
    {
      "cell_type": "code",
      "metadata": {
        "colab": {
          "base_uri": "https://localhost:8080/",
          "height": 0
        },
        "id": "PPnToLqxkl_i",
        "outputId": "00a6aba1-2c8a-48da-a88e-56c6fc12589e"
      },
      "source": [
        "c3 = combinations(4, 3)\n",
        "c3\n"
      ],
      "execution_count": 10,
      "outputs": [
        {
          "output_type": "execute_result",
          "data": {
            "text/plain": [
              "4"
            ]
          },
          "metadata": {},
          "execution_count": 10
        }
      ]
    },
    {
      "cell_type": "code",
      "metadata": {
        "colab": {
          "base_uri": "https://localhost:8080/",
          "height": 0
        },
        "id": "agUt-79EpQcW",
        "outputId": "bafb5cab-e401-49ef-e4a7-3f3abd920d4e"
      },
      "source": [
        "c4 = combinations(4, 4)\n",
        "c4"
      ],
      "execution_count": 11,
      "outputs": [
        {
          "output_type": "execute_result",
          "data": {
            "text/plain": [
              "1"
            ]
          },
          "metadata": {},
          "execution_count": 11
        }
      ]
    },
    {
      "cell_type": "code",
      "metadata": {
        "colab": {
          "base_uri": "https://localhost:8080/",
          "height": 0
        },
        "id": "PaxZKESBlYbF",
        "outputId": "d20c46d4-2bf7-4282-e19b-a4da77c15080"
      },
      "source": [
        "#одна карта не туз \n",
        "d1 = combinations(48, 1)\n",
        "d1"
      ],
      "execution_count": 12,
      "outputs": [
        {
          "output_type": "execute_result",
          "data": {
            "text/plain": [
              "48"
            ]
          },
          "metadata": {},
          "execution_count": 12
        }
      ]
    },
    {
      "cell_type": "code",
      "metadata": {
        "colab": {
          "base_uri": "https://localhost:8080/",
          "height": 0
        },
        "id": "2OTlL1teo-qE",
        "outputId": "b4e724f4-1e6c-4a3f-ef78-9c5b71497bb2"
      },
      "source": [
        "n2 = c1 * d3 + c2 * d2 + c3 * d1 + c4\n",
        "n2"
      ],
      "execution_count": 13,
      "outputs": [
        {
          "output_type": "execute_result",
          "data": {
            "text/plain": [
              "76145"
            ]
          },
          "metadata": {},
          "execution_count": 13
        }
      ]
    },
    {
      "cell_type": "code",
      "metadata": {
        "colab": {
          "base_uri": "https://localhost:8080/",
          "height": 0
        },
        "id": "nbFJawxQptC3",
        "outputId": "bb74c278-042b-4c09-832c-332c1c806335"
      },
      "source": [
        "# Найти вероятность, что среди 4-х карт окажется хотя бы один туз. ответ 28%\n",
        "p2 = n2/m\n",
        "p2"
      ],
      "execution_count": 14,
      "outputs": [
        {
          "output_type": "execute_result",
          "data": {
            "text/plain": [
              "0.2812632745405855"
            ]
          },
          "metadata": {},
          "execution_count": 14
        }
      ]
    },
    {
      "cell_type": "markdown",
      "metadata": {
        "id": "6obV21UxqZOP"
      },
      "source": [
        "**На входной двери подъезда установлен кодовый замок, содержащий десять кнопок с цифрами от 0 до 9. Код содержит три цифры, которые нужно нажать одновременно. Какова вероятность того, что человек, не знающий код, откроет дверь с первой попытки?**\n"
      ]
    },
    {
      "cell_type": "code",
      "metadata": {
        "colab": {
          "base_uri": "https://localhost:8080/",
          "height": 0
        },
        "id": "3BJBfMeAq1pw",
        "outputId": "953d4572-11da-4f51-d77f-08c02f6ea5f4"
      },
      "source": [
        "# 3 цифры из 10, порядок не важен тк нажимаем одновременно\n",
        "# находим с из 3 по 10\n",
        "# получается, что только одно сочетание верное \n",
        "n = 1\n",
        "m = combinations(10, 3)\n",
        "m"
      ],
      "execution_count": 15,
      "outputs": [
        {
          "output_type": "execute_result",
          "data": {
            "text/plain": [
              "120"
            ]
          },
          "metadata": {},
          "execution_count": 15
        }
      ]
    },
    {
      "cell_type": "code",
      "metadata": {
        "colab": {
          "base_uri": "https://localhost:8080/",
          "height": 0
        },
        "id": "1W4E3EWurvy7",
        "outputId": "f1995818-9527-4195-e32d-5dfcb1ad7724"
      },
      "source": [
        "# вероятность угадать код с первой попытки 0,83%\n",
        "p = n / m\n",
        "p"
      ],
      "execution_count": 16,
      "outputs": [
        {
          "output_type": "execute_result",
          "data": {
            "text/plain": [
              "0.008333333333333333"
            ]
          },
          "metadata": {},
          "execution_count": 16
        }
      ]
    },
    {
      "cell_type": "markdown",
      "metadata": {
        "id": "Xzk4ZyEFsLny"
      },
      "source": [
        "**В ящике имеется 15 деталей, из которых 9 окрашены. Рабочий случайным образом извлекает 3 детали. Какова вероятность того, что все извлеченные детали окрашены?**"
      ]
    },
    {
      "cell_type": "code",
      "metadata": {
        "colab": {
          "base_uri": "https://localhost:8080/",
          "height": 0
        },
        "id": "ptJ5cxNAsfL9",
        "outputId": "8a781a35-e524-496d-ad7e-5fa3917295a7"
      },
      "source": [
        "# так как это зависимые события \n",
        "# p(3 окраш детали) = p(одна окраш) * p (вторая окрашена, при условии, что первая окраш уже вытащена) * p(третья окраш, при усл, что 2 окрашенные уже вытащены)\n",
        "p = (9 / 15) * (8 / 14) * (7 / 13)\n",
        "p\n",
        "# ответ 12/65 = 0,18 = 18%"
      ],
      "execution_count": 17,
      "outputs": [
        {
          "output_type": "execute_result",
          "data": {
            "text/plain": [
              "0.18461538461538457"
            ]
          },
          "metadata": {},
          "execution_count": 17
        }
      ]
    },
    {
      "cell_type": "markdown",
      "metadata": {
        "id": "1i2LfdWwwOuY"
      },
      "source": [
        "**В лотерее 100 билетов. Из них 2 выигрышных. Какова вероятность того, что 2 приобретенных билета окажутся выигрышными?**"
      ]
    },
    {
      "cell_type": "code",
      "metadata": {
        "colab": {
          "base_uri": "https://localhost:8080/",
          "height": 0
        },
        "id": "BQEfSGQYwXqZ",
        "outputId": "900255e9-207a-4271-cdc3-849a2d960170"
      },
      "source": [
        "combinations(100, 2)"
      ],
      "execution_count": 18,
      "outputs": [
        {
          "output_type": "execute_result",
          "data": {
            "text/plain": [
              "4950"
            ]
          },
          "metadata": {},
          "execution_count": 18
        }
      ]
    },
    {
      "cell_type": "code",
      "metadata": {
        "colab": {
          "base_uri": "https://localhost:8080/",
          "height": 0
        },
        "id": "NFqR2FyVxlUo",
        "outputId": "9b4fbe24-a68e-49d5-d0b8-ed5cf7f53101"
      },
      "source": [
        "#так как только одно сочетание обеспечивает покупку сразу двух выигрышных билетов\n",
        "p = 1/4950\n",
        "p"
      ],
      "execution_count": 19,
      "outputs": [
        {
          "output_type": "execute_result",
          "data": {
            "text/plain": [
              "0.00020202020202020202"
            ]
          },
          "metadata": {},
          "execution_count": 19
        }
      ]
    },
    {
      "cell_type": "markdown",
      "metadata": {
        "id": "9k9ziiN-gAi-"
      },
      "source": [
        "\n",
        "\n",
        "---\n",
        "**Работа над ошибками**\n",
        "Добрый день! У меня была ошибка в задании 1Б.\n",
        "Мой вариант решения оказался очень длинным и неоптимальным.\n",
        "в переменной d3 по невнимательности я посчитала сочетания 3 по 42, вместо 3 по 48. При исправленииполучается верный ответ.\n",
        "Ниже оформляю Ваше намного более элегантное решение! \n",
        "Большое спасибо! \n"
      ]
    },
    {
      "cell_type": "markdown",
      "metadata": {
        "id": "nShdQ2WIhGWG"
      },
      "source": [
        "**1Б, решение с помощью комбинаторики**"
      ]
    },
    {
      "cell_type": "code",
      "metadata": {
        "colab": {
          "base_uri": "https://localhost:8080/",
          "height": 0
        },
        "id": "oob-Mv3GhQU1",
        "outputId": "a4e8452f-bb87-4dd9-f105-edc9eac335ad"
      },
      "source": [
        "#число возможных исходов(сочетаний)\n",
        "m = combinations(52, 4)\n",
        "m"
      ],
      "execution_count": 20,
      "outputs": [
        {
          "output_type": "execute_result",
          "data": {
            "text/plain": [
              "270725"
            ]
          },
          "metadata": {},
          "execution_count": 20
        }
      ]
    },
    {
      "cell_type": "code",
      "metadata": {
        "colab": {
          "base_uri": "https://localhost:8080/",
          "height": 0
        },
        "id": "iZwfNCMXhpj1",
        "outputId": "2c92b6a7-b0ac-47f0-f312-87a9c63f2654"
      },
      "source": [
        "# число сочетаний карт без тузов\n",
        "a = combinations(48, 4)\n",
        "a"
      ],
      "execution_count": 21,
      "outputs": [
        {
          "output_type": "execute_result",
          "data": {
            "text/plain": [
              "194580"
            ]
          },
          "metadata": {},
          "execution_count": 21
        }
      ]
    },
    {
      "cell_type": "code",
      "metadata": {
        "colab": {
          "base_uri": "https://localhost:8080/",
          "height": 0
        },
        "id": "QSyEf4o_iCGM",
        "outputId": "a5b6d54f-88db-4350-f3a4-8f79a3998504"
      },
      "source": [
        "# число сочетаний хотя бы с одним тузом\n",
        "n = m - a\n",
        "n\n"
      ],
      "execution_count": 22,
      "outputs": [
        {
          "output_type": "execute_result",
          "data": {
            "text/plain": [
              "76145"
            ]
          },
          "metadata": {},
          "execution_count": 22
        }
      ]
    },
    {
      "cell_type": "code",
      "metadata": {
        "colab": {
          "base_uri": "https://localhost:8080/",
          "height": 0
        },
        "id": "YJnLr0jAiOJB",
        "outputId": "d365741f-dcb0-4284-9d64-0f25b681496d"
      },
      "source": [
        "# вероятность вытащить 4 карты хотя бы с одним тузом 28%\n",
        "p = n / m\n",
        "p"
      ],
      "execution_count": 23,
      "outputs": [
        {
          "output_type": "execute_result",
          "data": {
            "text/plain": [
              "0.2812632745405855"
            ]
          },
          "metadata": {},
          "execution_count": 23
        }
      ]
    },
    {
      "cell_type": "markdown",
      "metadata": {
        "id": "NaTP0qBOiq87"
      },
      "source": [
        "**1Б, условная вероятность**"
      ]
    },
    {
      "cell_type": "code",
      "metadata": {
        "colab": {
          "base_uri": "https://localhost:8080/",
          "height": 0
        },
        "id": "KzjO_XGbi2Qs",
        "outputId": "518ba168-cd5d-40b6-d2b4-fa95e88ba968"
      },
      "source": [
        "# вычитаем из 1 рероятность вытащить 4 карты без тузов\n",
        "p = 1 - 48/52 * 47/51 * 46/50 * 45/49\n",
        "p"
      ],
      "execution_count": 25,
      "outputs": [
        {
          "output_type": "execute_result",
          "data": {
            "text/plain": [
              "0.2812632745405854"
            ]
          },
          "metadata": {},
          "execution_count": 25
        }
      ]
    }
  ]
}