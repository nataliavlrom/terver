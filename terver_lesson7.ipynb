{
  "nbformat": 4,
  "nbformat_minor": 0,
  "metadata": {
    "colab": {
      "name": "terver_lesson7.ipynb",
      "provenance": [],
      "authorship_tag": "ABX9TyPBmgN59qdrCleVQDabF4t3",
      "include_colab_link": true
    },
    "kernelspec": {
      "name": "python3",
      "display_name": "Python 3"
    },
    "language_info": {
      "name": "python"
    }
  },
  "cells": [
    {
      "cell_type": "markdown",
      "metadata": {
        "id": "view-in-github",
        "colab_type": "text"
      },
      "source": [
        "<a href=\"https://colab.research.google.com/github/nataliavlrom/terver/blob/main/terver_lesson7.ipynb\" target=\"_parent\"><img src=\"https://colab.research.google.com/assets/colab-badge.svg\" alt=\"Open In Colab\"/></a>"
      ]
    },
    {
      "cell_type": "markdown",
      "metadata": {
        "id": "BYqM4xraarjg"
      },
      "source": [
        "**Даны значения величины заработной платы заемщиков банка (zp) и значения их поведенческого кредитного скоринга (ks): zp = [35, 45, 190, 200, 40, 70, 54, 150, 120, 110], ks = [401, 574, 874, 919, 459, 739, 653, 902, 746, 832]. Используя математические операции, посчитать коэффициенты линейной регрессии, приняв за X заработную плату (то есть, zp - признак), а за y - значения скорингового балла (то есть, ks - целевая переменная). Произвести расчет как с использованием intercept, так и без.**"
      ]
    },
    {
      "cell_type": "code",
      "metadata": {
        "id": "fNF5wqUrhsI-"
      },
      "source": [
        "# расчет вручную с интерсептом"
      ],
      "execution_count": null,
      "outputs": []
    },
    {
      "cell_type": "code",
      "metadata": {
        "id": "lxXU9kdPauMZ"
      },
      "source": [
        "import numpy as np"
      ],
      "execution_count": null,
      "outputs": []
    },
    {
      "cell_type": "code",
      "metadata": {
        "colab": {
          "base_uri": "https://localhost:8080/"
        },
        "id": "Yb2xTp2Ya71L",
        "outputId": "07367864-7eee-451a-ded2-ed27e985bf12"
      },
      "source": [
        "zp = np.array([35, 45, 190, 200, 40, 70, 54, 150, 120, 110])\n",
        "zp"
      ],
      "execution_count": null,
      "outputs": [
        {
          "output_type": "execute_result",
          "data": {
            "text/plain": [
              "array([ 35,  45, 190, 200,  40,  70,  54, 150, 120, 110])"
            ]
          },
          "metadata": {},
          "execution_count": 73
        }
      ]
    },
    {
      "cell_type": "code",
      "metadata": {
        "colab": {
          "base_uri": "https://localhost:8080/"
        },
        "id": "Fb4GUGSWbHH-",
        "outputId": "fd513d48-14f3-4ff5-e69d-ea3a541fe5f5"
      },
      "source": [
        "ks = np.array([401, 574, 874, 919, 459, 739, 653, 902, 746, 832])\n",
        "ks"
      ],
      "execution_count": null,
      "outputs": [
        {
          "output_type": "execute_result",
          "data": {
            "text/plain": [
              "array([401, 574, 874, 919, 459, 739, 653, 902, 746, 832])"
            ]
          },
          "metadata": {},
          "execution_count": 74
        }
      ]
    },
    {
      "cell_type": "code",
      "metadata": {
        "colab": {
          "base_uri": "https://localhost:8080/"
        },
        "id": "4zzR-ABObQR3",
        "outputId": "46b8e061-3dfe-4628-ae43-1048990e45d2"
      },
      "source": [
        "x = zp\n",
        "x"
      ],
      "execution_count": null,
      "outputs": [
        {
          "output_type": "execute_result",
          "data": {
            "text/plain": [
              "array([ 35,  45, 190, 200,  40,  70,  54, 150, 120, 110])"
            ]
          },
          "metadata": {},
          "execution_count": 75
        }
      ]
    },
    {
      "cell_type": "code",
      "metadata": {
        "colab": {
          "base_uri": "https://localhost:8080/"
        },
        "id": "-dLBkE51br5J",
        "outputId": "df154ace-b748-415e-ca37-90820dcca381"
      },
      "source": [
        "y = ks\n",
        "y"
      ],
      "execution_count": null,
      "outputs": [
        {
          "output_type": "execute_result",
          "data": {
            "text/plain": [
              "array([401, 574, 874, 919, 459, 739, 653, 902, 746, 832])"
            ]
          },
          "metadata": {},
          "execution_count": 76
        }
      ]
    },
    {
      "cell_type": "code",
      "metadata": {
        "colab": {
          "base_uri": "https://localhost:8080/"
        },
        "id": "Ga90AYFObuGM",
        "outputId": "9d118e83-a281-426b-9191-a87bcb56092f"
      },
      "source": [
        "b = (np.mean(x * y) - np.mean(x) * np.mean(y)) / (np.mean(x ** 2) - np.mean(x) ** 2) \n",
        "b"
      ],
      "execution_count": null,
      "outputs": [
        {
          "output_type": "execute_result",
          "data": {
            "text/plain": [
              "2.620538882402765"
            ]
          },
          "metadata": {},
          "execution_count": 77
        }
      ]
    },
    {
      "cell_type": "code",
      "metadata": {
        "colab": {
          "base_uri": "https://localhost:8080/"
        },
        "id": "_l0MD64ueKOJ",
        "outputId": "5622be86-9eba-430a-b977-d6a1d45152d0"
      },
      "source": [
        "n = len(x)\n",
        "n"
      ],
      "execution_count": null,
      "outputs": [
        {
          "output_type": "execute_result",
          "data": {
            "text/plain": [
              "10"
            ]
          },
          "metadata": {},
          "execution_count": 78
        }
      ]
    },
    {
      "cell_type": "code",
      "metadata": {
        "colab": {
          "base_uri": "https://localhost:8080/"
        },
        "id": "w1lMcMbEeQAz",
        "outputId": "87340e51-7193-4dc8-a9fe-ba4db2335d0c"
      },
      "source": [
        "b = (n * (np.sum(x * y)) - (np.sum(x) * np.sum(y))) / (n * (np.sum(x ** 2)) - (np.sum(x) ** 2))\n",
        "b"
      ],
      "execution_count": null,
      "outputs": [
        {
          "output_type": "execute_result",
          "data": {
            "text/plain": [
              "2.6205388824027653"
            ]
          },
          "metadata": {},
          "execution_count": 79
        }
      ]
    },
    {
      "cell_type": "code",
      "metadata": {
        "colab": {
          "base_uri": "https://localhost:8080/"
        },
        "id": "QPYQRioufP31",
        "outputId": "12963296-6510-451a-e200-bc69365896a7"
      },
      "source": [
        "a = np.mean(y) - b * np.mean(x)\n",
        "a"
      ],
      "execution_count": null,
      "outputs": [
        {
          "output_type": "execute_result",
          "data": {
            "text/plain": [
              "444.17735732435955"
            ]
          },
          "metadata": {},
          "execution_count": 80
        }
      ]
    },
    {
      "cell_type": "code",
      "metadata": {
        "colab": {
          "base_uri": "https://localhost:8080/"
        },
        "id": "PYZmt-pUfiCl",
        "outputId": "08b87a98-8bc9-4d8d-b0a5-a106235d3f93"
      },
      "source": [
        "y_hat = 444.18 + 2.62 * x\n",
        "y_hat"
      ],
      "execution_count": null,
      "outputs": [
        {
          "output_type": "execute_result",
          "data": {
            "text/plain": [
              "array([535.88, 562.08, 941.98, 968.18, 548.98, 627.58, 585.66, 837.18,\n",
              "       758.58, 732.38])"
            ]
          },
          "metadata": {},
          "execution_count": 81
        }
      ]
    },
    {
      "cell_type": "code",
      "metadata": {
        "colab": {
          "base_uri": "https://localhost:8080/"
        },
        "id": "tInJWicHf2Xb",
        "outputId": "7ad50ed5-a97c-4e8c-d3f6-1261615481f0"
      },
      "source": [
        "y"
      ],
      "execution_count": null,
      "outputs": [
        {
          "output_type": "execute_result",
          "data": {
            "text/plain": [
              "array([401, 574, 874, 919, 459, 739, 653, 902, 746, 832])"
            ]
          },
          "metadata": {},
          "execution_count": 82
        }
      ]
    },
    {
      "cell_type": "code",
      "metadata": {
        "id": "T44_aA0Jf_j9"
      },
      "source": [
        "import matplotlib.pyplot as plt\n",
        "%matplotlib inline"
      ],
      "execution_count": null,
      "outputs": []
    },
    {
      "cell_type": "code",
      "metadata": {
        "colab": {
          "base_uri": "https://localhost:8080/",
          "height": 296
        },
        "id": "iL1jr67GgE5s",
        "outputId": "5cd7938b-4942-4910-bcf2-5d4956e26ae1"
      },
      "source": [
        "plt.scatter(x, y)\n",
        "plt.plot(x, 444.18 + 2.62 * x)\n",
        "plt.xlabel('заработная плата(тыс. руб)')\n",
        "plt.ylabel('кредитный скоринг')"
      ],
      "execution_count": null,
      "outputs": [
        {
          "output_type": "execute_result",
          "data": {
            "text/plain": [
              "Text(0, 0.5, 'кредитный скоринг')"
            ]
          },
          "metadata": {},
          "execution_count": 84
        },
        {
          "output_type": "display_data",
          "data": {
            "image/png": "[encoded data removed]",
            "text/plain": [
              "<Figure size 432x288 with 1 Axes>"
            ]
          },
          "metadata": {
            "needs_background": "light"
          }
        }
      ]
    },
    {
      "cell_type": "code",
      "metadata": {
        "colab": {
          "base_uri": "https://localhost:8080/"
        },
        "id": "i86O7SsSn70E",
        "outputId": "66536272-e720-45d4-99f1-fcfae51ec8e7"
      },
      "source": [
        "mse = ((y - y_hat)**2).sum() / n\n",
        "       \n",
        "mse"
      ],
      "execution_count": null,
      "outputs": [
        {
          "output_type": "execute_result",
          "data": {
            "text/plain": [
              "6470.417919999998"
            ]
          },
          "metadata": {},
          "execution_count": 102
        }
      ]
    },
    {
      "cell_type": "code",
      "metadata": {
        "id": "O9fSBR19oHLJ"
      },
      "source": [
        "# матричным методом с интерсептом"
      ],
      "execution_count": null,
      "outputs": []
    },
    {
      "cell_type": "code",
      "metadata": {
        "id": "Lq1cSBwwjjUz"
      },
      "source": [
        "import seaborn as sns"
      ],
      "execution_count": null,
      "outputs": []
    },
    {
      "cell_type": "code",
      "metadata": {
        "colab": {
          "base_uri": "https://localhost:8080/"
        },
        "id": "CX7mtXeSjwuV",
        "outputId": "e5292999-65f4-4f9f-fe91-479ee57e9898"
      },
      "source": [
        "x = x.reshape((10, 1))\n",
        "x"
      ],
      "execution_count": null,
      "outputs": [
        {
          "output_type": "execute_result",
          "data": {
            "text/plain": [
              "array([[ 35],\n",
              "       [ 45],\n",
              "       [190],\n",
              "       [200],\n",
              "       [ 40],\n",
              "       [ 70],\n",
              "       [ 54],\n",
              "       [150],\n",
              "       [120],\n",
              "       [110]])"
            ]
          },
          "metadata": {},
          "execution_count": 24
        }
      ]
    },
    {
      "cell_type": "code",
      "metadata": {
        "colab": {
          "base_uri": "https://localhost:8080/"
        },
        "id": "yNNXdJzhkDDf",
        "outputId": "a2475f41-d155-4d06-ac38-e1dbbefe83d2"
      },
      "source": [
        "y = y.reshape((10, 1))\n",
        "y"
      ],
      "execution_count": null,
      "outputs": [
        {
          "output_type": "execute_result",
          "data": {
            "text/plain": [
              "array([[401],\n",
              "       [574],\n",
              "       [874],\n",
              "       [919],\n",
              "       [459],\n",
              "       [739],\n",
              "       [653],\n",
              "       [902],\n",
              "       [746],\n",
              "       [832]])"
            ]
          },
          "metadata": {},
          "execution_count": 25
        }
      ]
    },
    {
      "cell_type": "code",
      "metadata": {
        "colab": {
          "base_uri": "https://localhost:8080/"
        },
        "id": "hbnFRN3glIMK",
        "outputId": "ac717428-3996-4047-cb41-4ceeb02d3335"
      },
      "source": [
        "x = np.hstack([np.ones((10,1)), x])\n",
        "x"
      ],
      "execution_count": null,
      "outputs": [
        {
          "output_type": "execute_result",
          "data": {
            "text/plain": [
              "array([[  1.,  35.],\n",
              "       [  1.,  45.],\n",
              "       [  1., 190.],\n",
              "       [  1., 200.],\n",
              "       [  1.,  40.],\n",
              "       [  1.,  70.],\n",
              "       [  1.,  54.],\n",
              "       [  1., 150.],\n",
              "       [  1., 120.],\n",
              "       [  1., 110.]])"
            ]
          },
          "metadata": {},
          "execution_count": 26
        }
      ]
    },
    {
      "cell_type": "code",
      "metadata": {
        "colab": {
          "base_uri": "https://localhost:8080/"
        },
        "id": "oblSgfp5l1YD",
        "outputId": "5665bf74-0333-4ea8-9f75-30c23c8be0a2"
      },
      "source": [
        "b = np.dot(np.linalg.inv(np.dot(x.T, x)), x.T@y)\n",
        "b"
      ],
      "execution_count": null,
      "outputs": [
        {
          "output_type": "execute_result",
          "data": {
            "text/plain": [
              "array([[444.17735732],\n",
              "       [  2.62053888]])"
            ]
          },
          "metadata": {},
          "execution_count": 27
        }
      ]
    },
    {
      "cell_type": "code",
      "metadata": {
        "id": "v0hqN_xEodpD"
      },
      "source": [
        "# матричным методом без интерсепта"
      ],
      "execution_count": null,
      "outputs": []
    },
    {
      "cell_type": "code",
      "metadata": {
        "colab": {
          "base_uri": "https://localhost:8080/"
        },
        "id": "UTgyyQFLmLUT",
        "outputId": "f0f2d13c-7233-4c62-e404-c0b9758b5b21"
      },
      "source": [
        "x = zp\n",
        "x"
      ],
      "execution_count": null,
      "outputs": [
        {
          "output_type": "execute_result",
          "data": {
            "text/plain": [
              "array([ 35,  45, 190, 200,  40,  70,  54, 150, 120, 110])"
            ]
          },
          "metadata": {},
          "execution_count": 29
        }
      ]
    },
    {
      "cell_type": "code",
      "metadata": {
        "colab": {
          "base_uri": "https://localhost:8080/"
        },
        "id": "6uiMa1KRolAb",
        "outputId": "e00a5518-0781-4801-80a6-d74e8cd464a5"
      },
      "source": [
        "x = x.reshape((10, 1))\n",
        "x"
      ],
      "execution_count": null,
      "outputs": [
        {
          "output_type": "execute_result",
          "data": {
            "text/plain": [
              "array([[ 35],\n",
              "       [ 45],\n",
              "       [190],\n",
              "       [200],\n",
              "       [ 40],\n",
              "       [ 70],\n",
              "       [ 54],\n",
              "       [150],\n",
              "       [120],\n",
              "       [110]])"
            ]
          },
          "metadata": {},
          "execution_count": 30
        }
      ]
    },
    {
      "cell_type": "code",
      "metadata": {
        "colab": {
          "base_uri": "https://localhost:8080/"
        },
        "id": "OOVBLyacoqaB",
        "outputId": "d5689a42-98d7-4d5f-9a6e-a87a9e17fb06"
      },
      "source": [
        "y = ks\n",
        "y"
      ],
      "execution_count": null,
      "outputs": [
        {
          "output_type": "execute_result",
          "data": {
            "text/plain": [
              "array([401, 574, 874, 919, 459, 739, 653, 902, 746, 832])"
            ]
          },
          "metadata": {},
          "execution_count": 31
        }
      ]
    },
    {
      "cell_type": "code",
      "metadata": {
        "colab": {
          "base_uri": "https://localhost:8080/"
        },
        "id": "1cOPWyBSoxlV",
        "outputId": "8159275f-1eff-471c-b8a5-2fcecc864ee8"
      },
      "source": [
        "y = y.reshape((10,1))\n",
        "y"
      ],
      "execution_count": null,
      "outputs": [
        {
          "output_type": "execute_result",
          "data": {
            "text/plain": [
              "array([[401],\n",
              "       [574],\n",
              "       [874],\n",
              "       [919],\n",
              "       [459],\n",
              "       [739],\n",
              "       [653],\n",
              "       [902],\n",
              "       [746],\n",
              "       [832]])"
            ]
          },
          "metadata": {},
          "execution_count": 32
        }
      ]
    },
    {
      "cell_type": "code",
      "metadata": {
        "colab": {
          "base_uri": "https://localhost:8080/"
        },
        "id": "g6q_4EU4pDWn",
        "outputId": "5a35b119-b833-4034-8ebc-6a4ff77fb92e"
      },
      "source": [
        "b = np.dot(np.linalg.inv(np.dot(x.T, x)), x.T@y)\n",
        "b"
      ],
      "execution_count": null,
      "outputs": [
        {
          "output_type": "execute_result",
          "data": {
            "text/plain": [
              "array([[5.88982042]])"
            ]
          },
          "metadata": {},
          "execution_count": 33
        }
      ]
    },
    {
      "cell_type": "code",
      "metadata": {
        "colab": {
          "base_uri": "https://localhost:8080/"
        },
        "id": "Scn26fOJpHyM",
        "outputId": "0bbbb7f2-8c99-4347-da0e-ee88e6e01c4b"
      },
      "source": [
        "y_hat = 5.89 * x\n",
        "y_hat"
      ],
      "execution_count": null,
      "outputs": [
        {
          "output_type": "execute_result",
          "data": {
            "text/plain": [
              "array([[ 206.15],\n",
              "       [ 265.05],\n",
              "       [1119.1 ],\n",
              "       [1178.  ],\n",
              "       [ 235.6 ],\n",
              "       [ 412.3 ],\n",
              "       [ 318.06],\n",
              "       [ 883.5 ],\n",
              "       [ 706.8 ],\n",
              "       [ 647.9 ]])"
            ]
          },
          "metadata": {},
          "execution_count": 34
        }
      ]
    },
    {
      "cell_type": "code",
      "metadata": {
        "colab": {
          "base_uri": "https://localhost:8080/",
          "height": 282
        },
        "id": "DrWug1dCpVqT",
        "outputId": "8411a77b-a145-4a96-f455-30ef19bf75e2"
      },
      "source": [
        "plt.scatter(x, y)\n",
        "plt.plot(x, 5.89 * x)\n"
      ],
      "execution_count": null,
      "outputs": [
        {
          "output_type": "execute_result",
          "data": {
            "text/plain": [
              "[<matplotlib.lines.Line2D at 0x7fa0e9d59a90>]"
            ]
          },
          "metadata": {},
          "execution_count": 99
        },
        {
          "output_type": "display_data",
          "data": {
            "image/png": "[encoded data removed]",
            "text/plain": [
              "<Figure size 432x288 with 1 Axes>"
            ]
          },
          "metadata": {
            "needs_background": "light"
          }
        }
      ]
    },
    {
      "cell_type": "markdown",
      "metadata": {
        "id": "xjCiaLQOrHFU"
      },
      "source": [
        "**Посчитать коэффициент линейной регрессии при заработной плате (zp), используя градиентный спуск (без intercept).**"
      ]
    },
    {
      "cell_type": "code",
      "metadata": {
        "colab": {
          "base_uri": "https://localhost:8080/"
        },
        "id": "Jgp5yHudrJxo",
        "outputId": "219da433-3bd7-4203-80c3-2cfca2fb2c98"
      },
      "source": [
        "x = np.array([35, 45, 190, 200, 40, 70, 54, 150, 120, 110])\n",
        "x"
      ],
      "execution_count": null,
      "outputs": [
        {
          "output_type": "execute_result",
          "data": {
            "text/plain": [
              "array([ 35,  45, 190, 200,  40,  70,  54, 150, 120, 110])"
            ]
          },
          "metadata": {},
          "execution_count": 106
        }
      ]
    },
    {
      "cell_type": "code",
      "metadata": {
        "colab": {
          "base_uri": "https://localhost:8080/"
        },
        "id": "VanoTz7vrvww",
        "outputId": "4e2e612a-2f71-4fb2-9298-e32060d4c125"
      },
      "source": [
        "y = np.array([401, 574, 874, 919, 459, 739, 653, 902, 746, 832])\n",
        "y"
      ],
      "execution_count": null,
      "outputs": [
        {
          "output_type": "execute_result",
          "data": {
            "text/plain": [
              "array([401, 574, 874, 919, 459, 739, 653, 902, 746, 832])"
            ]
          },
          "metadata": {},
          "execution_count": 38
        }
      ]
    },
    {
      "cell_type": "code",
      "metadata": {
        "id": "eHFVsX2Jr4x-"
      },
      "source": [
        "def mse_(b1, y=y, x=x, n = 10):\n",
        "  return np.sum((b1 * x - y)**2) / n"
      ],
      "execution_count": null,
      "outputs": []
    },
    {
      "cell_type": "code",
      "metadata": {
        "colab": {
          "base_uri": "https://localhost:8080/"
        },
        "id": "QPftS3fVskfZ",
        "outputId": "1b2154d6-48f9-47b5-8ae0-431c27fc5db0"
      },
      "source": [
        "alfa = 1e-6\n",
        "alfa"
      ],
      "execution_count": null,
      "outputs": [
        {
          "output_type": "execute_result",
          "data": {
            "text/plain": [
              "1e-06"
            ]
          },
          "metadata": {},
          "execution_count": 40
        }
      ]
    },
    {
      "cell_type": "code",
      "metadata": {
        "id": "2mePaTCWspQO"
      },
      "source": [
        " # mse = (1/n) * np.sum((b1*x - y)**2)"
      ],
      "execution_count": null,
      "outputs": []
    },
    {
      "cell_type": "code",
      "metadata": {
        "id": "f-7qlJX1wj3M"
      },
      "source": [
        "# mse_p = (2/n) * np.sum((b1*x - y) * x)"
      ],
      "execution_count": null,
      "outputs": []
    },
    {
      "cell_type": "code",
      "metadata": {
        "id": "FdNBo0T2w7aU"
      },
      "source": [
        "b1 = 0.1"
      ],
      "execution_count": null,
      "outputs": []
    },
    {
      "cell_type": "code",
      "metadata": {
        "id": "ojiD0w1JxCD1"
      },
      "source": [
        "n = 10"
      ],
      "execution_count": null,
      "outputs": []
    },
    {
      "cell_type": "code",
      "metadata": {
        "colab": {
          "base_uri": "https://localhost:8080/"
        },
        "id": "QNLjx9c8xU5f",
        "outputId": "dfff8a0d-165f-434d-b7e5-6db1e406a9eb"
      },
      "source": [
        "for i in range(10):\n",
        "  b1 -=alfa*(2/n) * np.sum((b1*x - y) * x)\n",
        "  print('b1={}'.format(b1))"
      ],
      "execution_count": null,
      "outputs": [
        {
          "output_type": "stream",
          "name": "stdout",
          "text": [
            "b1=0.25952808\n",
            "b1=0.414660650906144\n",
            "b1=0.5655188230595969\n",
            "b1=0.7122203698240712\n",
            "b1=0.8548798195302346\n",
            "b1=0.9936085448867542\n",
            "b1=1.1285148499277806\n",
            "b1=1.2597040545647504\n",
            "b1=1.387278576808517\n",
            "b1=1.5113380127259965\n"
          ]
        }
      ]
    },
    {
      "cell_type": "code",
      "metadata": {
        "id": "kIkDAxMyyB5O",
        "colab": {
          "base_uri": "https://localhost:8080/"
        },
        "outputId": "0bcbb5da-b3ab-44a0-e317-6c776fd691d1"
      },
      "source": [
        "for i in range(100):\n",
        "  b1 -=alfa*(2/n) * np.sum((b1*x - y) * x)\n",
        "  if i%10==0:\n",
        "    print(f'iteration:{i} b1={b1},mse={mse_(b1)}')"
      ],
      "execution_count": null,
      "outputs": [
        {
          "output_type": "stream",
          "name": "stdout",
          "text": [
            "iteration:0 b1=5.889820420132673,mse=56516.85841571943\n",
            "iteration:10 b1=5.889820420132673,mse=56516.85841571943\n",
            "iteration:20 b1=5.889820420132673,mse=56516.85841571943\n",
            "iteration:30 b1=5.889820420132673,mse=56516.85841571943\n",
            "iteration:40 b1=5.889820420132673,mse=56516.85841571943\n",
            "iteration:50 b1=5.889820420132673,mse=56516.85841571943\n",
            "iteration:60 b1=5.889820420132673,mse=56516.85841571943\n",
            "iteration:70 b1=5.889820420132673,mse=56516.85841571943\n",
            "iteration:80 b1=5.889820420132673,mse=56516.85841571943\n",
            "iteration:90 b1=5.889820420132673,mse=56516.85841571943\n"
          ]
        }
      ]
    },
    {
      "cell_type": "code",
      "metadata": {
        "colab": {
          "base_uri": "https://localhost:8080/"
        },
        "id": "-DiR4AJYNkdS",
        "outputId": "839d406c-9da4-420b-d43b-904bf8810493"
      },
      "source": [
        "for i in range(3000):\n",
        "  b1 -=alfa*(2/n) * np.sum((b1*x - y) * x)\n",
        "  if i%500==0:\n",
        "    print(f'iteration:{i} b1={b1},mse={mse_(b1)}')"
      ],
      "execution_count": null,
      "outputs": [
        {
          "output_type": "stream",
          "name": "stdout",
          "text": [
            "iteration:0 b1=5.889820420132673,mse=56516.85841571943\n",
            "iteration:500 b1=5.889820420132673,mse=56516.85841571943\n",
            "iteration:1000 b1=5.889820420132673,mse=56516.85841571943\n",
            "iteration:1500 b1=5.889820420132673,mse=56516.85841571943\n",
            "iteration:2000 b1=5.889820420132673,mse=56516.85841571943\n",
            "iteration:2500 b1=5.889820420132673,mse=56516.85841571943\n"
          ]
        }
      ]
    },
    {
      "cell_type": "markdown",
      "metadata": {
        "id": "tKImA1BDOJ6q"
      },
      "source": [
        "**В каких случаях для вычисления доверительных интервалов и проверки статистических гипотез используется таблица значений функции Лапласа, а в каких - таблица критических точек распределения Стьюдента?**"
      ]
    },
    {
      "cell_type": "code",
      "metadata": {
        "id": "0ehskSmxRx51"
      },
      "source": [
        ""
      ],
      "execution_count": null,
      "outputs": []
    },
    {
      "cell_type": "markdown",
      "metadata": {
        "id": "xA_LLsNeRxii"
      },
      "source": [
        "**4. Произвести вычисления как в пункте 2, но с вычислением intercept. Учесть, что изменение коэффициентов должно производиться на каждом шаге одновременно (то есть изменение одного коэффициента не должно влиять на изменение другого во время одной итерации).**"
      ]
    },
    {
      "cell_type": "code",
      "metadata": {
        "colab": {
          "base_uri": "https://localhost:8080/"
        },
        "id": "O_dJO99bBtMR",
        "outputId": "0fb20ab2-a59e-48ce-caba-168ffc2002c2"
      },
      "source": [
        "x"
      ],
      "execution_count": null,
      "outputs": [
        {
          "output_type": "execute_result",
          "data": {
            "text/plain": [
              "array([ 35,  45, 190, 200,  40,  70,  54, 150, 120, 110])"
            ]
          },
          "metadata": {},
          "execution_count": 107
        }
      ]
    },
    {
      "cell_type": "code",
      "metadata": {
        "colab": {
          "base_uri": "https://localhost:8080/"
        },
        "id": "Xml2FtZEBtsU",
        "outputId": "5d792b3d-fba2-4751-e8ab-060a28324fdb"
      },
      "source": [
        "y"
      ],
      "execution_count": null,
      "outputs": [
        {
          "output_type": "execute_result",
          "data": {
            "text/plain": [
              "array([401, 574, 874, 919, 459, 739, 653, 902, 746, 832])"
            ]
          },
          "metadata": {},
          "execution_count": 108
        }
      ]
    },
    {
      "cell_type": "code",
      "metadata": {
        "id": "rk3JjXWzB2Rf"
      },
      "source": [
        "def mse_(b1, y=y, x=x, n = 10):\n",
        "  return np.sum((b0 + b1 * x - y)**2) / n"
      ],
      "execution_count": null,
      "outputs": []
    },
    {
      "cell_type": "code",
      "metadata": {
        "id": "h-mCY_m4CA8E"
      },
      "source": [
        "b0 = 0.1"
      ],
      "execution_count": null,
      "outputs": []
    },
    {
      "cell_type": "code",
      "metadata": {
        "id": "zw82h_PWCEz9"
      },
      "source": [
        "b1 = 0.1"
      ],
      "execution_count": null,
      "outputs": []
    },
    {
      "cell_type": "code",
      "metadata": {
        "id": "6aUXCm03CHaX"
      },
      "source": [
        "n = 10"
      ],
      "execution_count": null,
      "outputs": []
    },
    {
      "cell_type": "code",
      "metadata": {
        "id": "3Tn6YoXQCInY"
      },
      "source": [
        "alfa = 1e-5"
      ],
      "execution_count": null,
      "outputs": []
    },
    {
      "cell_type": "code",
      "metadata": {
        "colab": {
          "base_uri": "https://localhost:8080/"
        },
        "id": "eKHYCgXzCWLK",
        "outputId": "a18a95bc-edf5-4d2f-8300-8e422d0eb094"
      },
      "source": [
        "for i in range(1000000):\n",
        "  b0 -= alfa*(2/n)*np.sum(b0 + b1*x - y)\n",
        "  b1 -=alfa*(2/n) * np.sum((b0 + b1*x - y) * x)\n",
        "  if i%100000==0:\n",
        "    print(f'iteration:{i}, b0={b0} b1={b1},mse={mse_(b1)}')"
      ],
      "execution_count": null,
      "outputs": [
        {
          "output_type": "stream",
          "name": "stdout",
          "text": [
            "iteration:0, b0=444.17735732323916 b1=2.620538882411012,mse=6470.414201176657\n",
            "iteration:100000, b0=444.17735732323916 b1=2.620538882411012,mse=6470.414201176657\n",
            "iteration:200000, b0=444.17735732323916 b1=2.620538882411012,mse=6470.414201176657\n",
            "iteration:300000, b0=444.17735732323916 b1=2.620538882411012,mse=6470.414201176657\n",
            "iteration:400000, b0=444.17735732323916 b1=2.620538882411012,mse=6470.414201176657\n",
            "iteration:500000, b0=444.17735732323916 b1=2.620538882411012,mse=6470.414201176657\n",
            "iteration:600000, b0=444.17735732323916 b1=2.620538882411012,mse=6470.414201176657\n",
            "iteration:700000, b0=444.17735732323916 b1=2.620538882411012,mse=6470.414201176657\n",
            "iteration:800000, b0=444.17735732323916 b1=2.620538882411012,mse=6470.414201176657\n",
            "iteration:900000, b0=444.17735732323916 b1=2.620538882411012,mse=6470.414201176657\n"
          ]
        }
      ]
    }
  ]
}